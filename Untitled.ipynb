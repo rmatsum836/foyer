{
 "cells": [
  {
   "cell_type": "code",
   "execution_count": 1,
   "metadata": {
    "collapsed": false
   },
   "outputs": [
    {
     "ename": "ImportError",
     "evalue": "No module named 'methanol'",
     "output_type": "error",
     "traceback": [
      "\u001b[0;31m---------------------------------------------------------------------------\u001b[0m",
      "\u001b[0;31mImportError\u001b[0m                               Traceback (most recent call last)",
      "\u001b[0;32m<ipython-input-1-70631da26818>\u001b[0m in \u001b[0;36m<module>\u001b[0;34m()\u001b[0m\n\u001b[1;32m      1\u001b[0m \u001b[0;32mimport\u001b[0m \u001b[0mmbuild\u001b[0m \u001b[0;32mas\u001b[0m \u001b[0mmb\u001b[0m\u001b[0;34m\u001b[0m\u001b[0m\n\u001b[1;32m      2\u001b[0m \u001b[0;32mfrom\u001b[0m \u001b[0mfoyer\u001b[0m \u001b[0;32mimport\u001b[0m \u001b[0mForcefield\u001b[0m\u001b[0;34m\u001b[0m\u001b[0m\n\u001b[0;32m----> 3\u001b[0;31m \u001b[0;32mfrom\u001b[0m \u001b[0mmethanol\u001b[0m \u001b[0;32mimport\u001b[0m \u001b[0mmethanol\u001b[0m\u001b[0;34m\u001b[0m\u001b[0m\n\u001b[0m\u001b[1;32m      4\u001b[0m \u001b[0;32mfrom\u001b[0m \u001b[0mfoyer\u001b[0m\u001b[0;34m.\u001b[0m\u001b[0mtests\u001b[0m\u001b[0;34m.\u001b[0m\u001b[0mutils\u001b[0m \u001b[0;32mimport\u001b[0m \u001b[0mget_fn\u001b[0m\u001b[0;34m\u001b[0m\u001b[0m\n\u001b[1;32m      5\u001b[0m \u001b[0;34m\u001b[0m\u001b[0m\n",
      "\u001b[0;31mImportError\u001b[0m: No module named 'methanol'"
     ]
    }
   ],
   "source": [
    "import mbuild as mb\n",
    "from foyer import Forcefield\n",
    "from methanol import methanol \n",
    "from foyer.tests.utils import get_fn\n",
    "\n",
    "bmim = mb.load('bmim.mol2')\n",
    "bmim.name = 'bmim'\n",
    "tf2n = mb.load('tf2n.mol2')\n",
    "tf2n.name ='tf2n'\n",
    "methanol = methanol()\n",
    "methanol.name = 'methanol'\n",
    "\n",
    "#fill box with 10 emim and 10 tf2n\n",
    "system = mb.fill_box(compound=[bmim, tf2n, methanol], n_compounds=[10, 10, 10], box = [4, 4, 4])\n",
    "\n",
    "#forloop to add IL's or solvents to respective compounds\n",
    "il = mb.Compound()\n",
    "solvent = mb.Compound()\n",
    "for child in system.children:\n",
    "    if child.name in ['bmim','tf2n']:\n",
    "        il.add(mb.clone(child))\n",
    "    elif child.name == 'methanol':\n",
    "        solvent.add(mb.clone(child))\n",
    "        #print(\"add\")\n"
   ]
  },
  {
   "cell_type": "code",
   "execution_count": null,
   "metadata": {
    "collapsed": false
   },
   "outputs": [],
   "source": [
    "solvent.visualize()"
   ]
  },
  {
   "cell_type": "code",
   "execution_count": null,
   "metadata": {
    "collapsed": false
   },
   "outputs": [],
   "source": [
    "opls = Forcefield(name='oplsaa')\n",
    "lopes = Forcefield('lopes.xml')\n",
    "\n",
    "#Error Tests\n",
    "print(\"\\n \\n\", solvent)\n",
    "print(\"\\n \\n\", il)\n",
    "print(type(opls))\n",
    "print(type(lopes))\n",
    "\n",
    "solvent = opls.apply(solvent) # apply forcefields to solvent\n",
    "il = lopes.apply(il)  #apply forcefield to IL's\n",
    "\n",
    "\n",
    "system = il + solvent #Use parmed files to combine forcefields\n",
    "\n",
    "#Save system to .gro and .top files\n",
    "system.save('IL-methanol.gro')\n",
    "system.save('IL-methanol.top')"
   ]
  },
  {
   "cell_type": "code",
   "execution_count": null,
   "metadata": {
    "collapsed": true
   },
   "outputs": [],
   "source": []
  },
  {
   "cell_type": "code",
   "execution_count": null,
   "metadata": {
    "collapsed": true
   },
   "outputs": [],
   "source": []
  }
 ],
 "metadata": {
  "kernelspec": {
   "display_name": "Python 3",
   "language": "python",
   "name": "python3"
  },
  "language_info": {
   "codemirror_mode": {
    "name": "ipython",
    "version": 3
   },
   "file_extension": ".py",
   "mimetype": "text/x-python",
   "name": "python",
   "nbconvert_exporter": "python",
   "pygments_lexer": "ipython3",
   "version": "3.5.2"
  },
  "widgets": {
   "state": {
    "1fffe5948a944623bd2f80b750037e96": {
     "views": [
      {
       "cell_index": 1
      }
     ]
    },
    "284a265d44f845de86f7727e814b9bb9": {
     "views": [
      {
       "cell_index": 1
      }
     ]
    },
    "2a5dbda9ed25437eb90812ed71deaa3b": {
     "views": [
      {
       "cell_index": 1
      }
     ]
    },
    "34500579950c4c528feb492bf16b2085": {
     "views": [
      {
       "cell_index": 1
      }
     ]
    },
    "3c6124133158453098e18318c91e06cf": {
     "views": [
      {
       "cell_index": 1
      }
     ]
    },
    "404170bd355d4ecea2432194aa345b49": {
     "views": [
      {
       "cell_index": 1
      }
     ]
    },
    "4d2491ca84e54d639638a26c1d20c58e": {
     "views": [
      {
       "cell_index": 1
      }
     ]
    },
    "4eb816440e5142f5b6b25a0f1230be07": {
     "views": [
      {
       "cell_index": 1
      }
     ]
    },
    "55827f5aee2a42dabc1ffa2dea0af49e": {
     "views": [
      {
       "cell_index": 1
      }
     ]
    },
    "5cb910eb60e24d1b928caa3542ed612a": {
     "views": [
      {
       "cell_index": 1
      }
     ]
    },
    "5cfb95a7e7404796b2e7c47f80f0c4cc": {
     "views": [
      {
       "cell_index": 1
      }
     ]
    },
    "6e22358a51f54ef48127cef1bdb120f2": {
     "views": [
      {
       "cell_index": 1
      }
     ]
    },
    "6ec9db4374174e0e9ba0101b61589784": {
     "views": [
      {
       "cell_index": 1
      }
     ]
    },
    "76cf1ff5c65f4fe6a9f874d549b6b54e": {
     "views": [
      {
       "cell_index": 1
      }
     ]
    },
    "83c0f9b74200488db8014be55cf8be08": {
     "views": [
      {
       "cell_index": 1
      }
     ]
    },
    "8def3f1dfd104c35bf798478d8c85e32": {
     "views": [
      {
       "cell_index": 1
      }
     ]
    },
    "9ca02c1131f44b299d6685dd0aefff4b": {
     "views": [
      {
       "cell_index": 1
      }
     ]
    },
    "9ee32f87e1c84c038a707bf9648b386b": {
     "views": [
      {
       "cell_index": 1
      }
     ]
    },
    "9f6e93e72c6d4233a5b7726020b634ac": {
     "views": [
      {
       "cell_index": 1
      }
     ]
    },
    "b24fd9536f3b423987a933408d069c1d": {
     "views": [
      {
       "cell_index": 1
      }
     ]
    },
    "b7a2e52288a949cc87bd6011f9322410": {
     "views": [
      {
       "cell_index": 1
      }
     ]
    },
    "bd3754e0cfac47248fdc9c31a8be2dc7": {
     "views": [
      {
       "cell_index": 1
      }
     ]
    },
    "c5f5933911f04c8fb06ed565a03e17a1": {
     "views": [
      {
       "cell_index": 1
      }
     ]
    },
    "d2c800adda8f412d95c20e76b49c438b": {
     "views": [
      {
       "cell_index": 1
      }
     ]
    },
    "ec70dd0c7bbc4edab42d54370e4af2c9": {
     "views": [
      {
       "cell_index": 1
      }
     ]
    },
    "f1dbad5d44a14d8a8afd374e97429ec3": {
     "views": [
      {
       "cell_index": 1
      }
     ]
    }
   },
   "version": "1.2.0"
  }
 },
 "nbformat": 4,
 "nbformat_minor": 2
}
